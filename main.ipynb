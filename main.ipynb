{
 "cells": [
  {
   "cell_type": "code",
   "execution_count": 2,
   "metadata": {},
   "outputs": [
    {
     "data": {
      "text/plain": [
       "{'cap-shape': 0,\n",
       " 'cap-surface': 0,\n",
       " 'cap-color': 0,\n",
       " 'bruises': 0,\n",
       " 'odor': 0,\n",
       " 'gill-attachment': 0,\n",
       " 'gill-spacing': 0,\n",
       " 'gill-size': 0,\n",
       " 'gill-color': 0,\n",
       " 'stalk-shape': 0,\n",
       " 'stalk-root': 0,\n",
       " 'stalk-surface-ar': 0,\n",
       " 'stalk-surface-br': 0,\n",
       " 'stalk-color-ar': 0,\n",
       " 'stalk-color-br': 0,\n",
       " 'veil-type': 0,\n",
       " 'veil-color': 0,\n",
       " 'ring-number': 0,\n",
       " 'ring-type': 0,\n",
       " 'spore-print-color': 0,\n",
       " 'population': 0,\n",
       " 'habitat': 0}"
      ]
     },
     "execution_count": 2,
     "metadata": {},
     "output_type": "execute_result"
    }
   ],
   "source": [
    "import pandas as pd\n",
    "\n",
    "from decision_tree import *\n",
    "\n",
    "df = pd.read_csv(\"dataset/agaricus-lepiota - training.csv\")\n",
    "x = df[df.columns[2:]]\n",
    "y = df[df.columns[1]]\n",
    "\n",
    "information_gain(x, y)"
   ]
  }
 ],
 "metadata": {
  "kernelspec": {
   "display_name": "Python 3",
   "language": "python",
   "name": "python3"
  },
  "language_info": {
   "codemirror_mode": {
    "name": "ipython",
    "version": 3
   },
   "file_extension": ".py",
   "mimetype": "text/x-python",
   "name": "python",
   "nbconvert_exporter": "python",
   "pygments_lexer": "ipython3",
   "version": "3.10.6"
  },
  "orig_nbformat": 4,
  "vscode": {
   "interpreter": {
    "hash": "b0fa6594d8f4cbf19f97940f81e996739fb7646882a419484c72d19e05852a7e"
   }
  }
 },
 "nbformat": 4,
 "nbformat_minor": 2
}
